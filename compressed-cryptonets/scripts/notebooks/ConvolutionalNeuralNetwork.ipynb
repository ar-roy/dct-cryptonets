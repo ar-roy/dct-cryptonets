{
 "cells": [
  {
   "cell_type": "markdown",
   "id": "b760a0f6",
   "metadata": {},
   "source": [
    "# Convolutional Neural Network\n",
    "\n",
    "This example shows how to design a simple quantization aware training CNN and how to measure \n",
    "the maximum accumulator bit width. We also show the impact of quantization on accuracy. \n",
    "\n",
    "To analyze the potential FHE-compatible quantization configurations, we use the simulation mode of\n",
    " the FHE circuit of the CNN. The maximum accumulator \n",
    "bit width that is currently allowed in Concrete ML is **16** bits, which limits the bit-widths \n",
    "that are usable for weights and activations.\n",
    "\n",
    "We find an FHE compatible configuration for 3 bits weights and activations and run the CNN in FHE.\n",
    "The accuracy in this highly quantized configuration is 92%. "
   ]
  },
  {
   "cell_type": "markdown",
   "id": "253288cf",
   "metadata": {},
   "source": [
    "### Import required modules"
   ]
  },
  {
   "cell_type": "code",
   "execution_count": 1,
   "outputs": [
    {
     "name": "stdout",
     "output_type": "stream",
     "text": [
      "No CUDA runtime is found, using CUDA_HOME='/usr'\n"
     ]
    },
    {
     "name": "stderr",
     "output_type": "stream",
     "text": [
      "/home/arjunroy/miniconda3/envs/compressed-cryptonets/lib/python3.10/site-packages/threadpoolctl.py:1010: RuntimeWarning: \n",
      "Found Intel OpenMP ('libiomp') and LLVM OpenMP ('libomp') loaded at\n",
      "the same time. Both libraries are known to be incompatible and this\n",
      "can cause random crashes or deadlocks on Linux when loaded in the\n",
      "same Python program.\n",
      "Using threadpoolctl may cause crashes or deadlocks. For more\n",
      "information and possible workarounds, please see\n",
      "    https://github.com/joblib/threadpoolctl/blob/master/multiple_openmp.md\n",
      "\n",
      "  warnings.warn(msg, RuntimeWarning)\n"
     ]
    }
   ],
   "source": [
    "import time\n",
    "\n",
    "import numpy as np\n",
    "import torch\n",
    "import torch.utils\n",
    "from sklearn.datasets import load_digits\n",
    "from sklearn.model_selection import train_test_split\n",
    "from torch import nn\n",
    "from torch.utils.data import DataLoader, TensorDataset\n",
    "from tqdm import tqdm\n",
    "\n",
    "from concrete.ml.torch.compile import compile_torch_model\n",
    "\n",
    "# And some helpers for visualization.\n",
    "\n",
    "%matplotlib inline\n",
    "\n",
    "import matplotlib.pyplot as plt"
   ],
   "metadata": {
    "collapsed": false,
    "ExecuteTime": {
     "end_time": "2023-12-11T20:37:24.855128486Z",
     "start_time": "2023-12-11T20:37:23.478906634Z"
    }
   },
   "id": "de0fa2caeaca0b87"
  },
  {
   "cell_type": "code",
   "execution_count": 2,
   "outputs": [
    {
     "name": "stdout",
     "output_type": "stream",
     "text": [
      "concrete-ml==1.3.0\r\n",
      "concrete-python==2.5.0rc1\r\n"
     ]
    }
   ],
   "source": [
    "!pip freeze | grep concrete"
   ],
   "metadata": {
    "collapsed": false,
    "ExecuteTime": {
     "end_time": "2023-12-11T20:37:29.522904470Z",
     "start_time": "2023-12-11T20:37:28.989760144Z"
    }
   },
   "id": "a3a9e56669f8b8ae"
  },
  {
   "cell_type": "markdown",
   "source": [
    "### Load the data-set and visualize it"
   ],
   "metadata": {
    "collapsed": false
   },
   "id": "c1c9190f70f13a6"
  },
  {
   "cell_type": "code",
   "execution_count": 3,
   "outputs": [
    {
     "data": {
      "text/plain": "<Figure size 600x600 with 16 Axes>",
      "image/png": "[encoded data removed]"
     },
     "metadata": {},
     "output_type": "display_data"
    }
   ],
   "source": [
    "X, y = load_digits(return_X_y=True)\n",
    "\n",
    "# The sklearn Digits data-set, though it contains digit images, keeps these images in vectors\n",
    "# so we need to reshape them to 2D first. The images are 8x8 px in size and monochrome\n",
    "X = np.expand_dims(X.reshape((-1, 8, 8)), 1)\n",
    "\n",
    "nplot = 4\n",
    "fig, ax = plt.subplots(nplot, nplot, figsize=(6, 6))\n",
    "for i in range(0, nplot):\n",
    "    for j in range(0, nplot):\n",
    "        ax[i, j].imshow(X[i * nplot + j, ::].squeeze())\n",
    "plt.show()\n",
    "\n",
    "x_train, x_test, y_train, y_test = train_test_split(\n",
    "    X, y, test_size=0.25, shuffle=True, random_state=42\n",
    ")"
   ],
   "metadata": {
    "collapsed": false,
    "ExecuteTime": {
     "end_time": "2023-12-11T20:37:52.085488445Z",
     "start_time": "2023-12-11T20:37:51.401378643Z"
    }
   },
   "id": "f5001f2c264d5b95"
  },
  {
   "cell_type": "markdown",
   "source": [
    "### Define the neural network\n",
    "\n",
    "Since the accumulator bit width in FHE is small, we prune the convolutional\n",
    "filters to limit the number of connections per neuron.\n",
    "\n",
    "Neural network **pruning** is the process by which the synapses of individual neurons in a layer\n",
    "are forced to have a weight equal to zero. This basically eliminates them from the computation \n",
    "and thus they do not increase the accumulator bit width. It has been shown that neural networks can \n",
    "maintain their accuracy with a degree of pruning that can \n",
    "even exceed 70% for some over-parametrized networks such as VGG16 or large ResNets.\n",
    "\n",
    "See: https://arxiv.org/pdf/2003.03033.pdf, Figure 8 in Section 7.2, for an evaluation on the \n",
    "simple pruning method used in this example."
   ],
   "metadata": {
    "collapsed": false
   },
   "id": "c996f84847bb344e"
  },
  {
   "cell_type": "code",
   "execution_count": 4,
   "outputs": [],
   "source": [
    "class TinyCNN(nn.Module):\n",
    "    \"\"\"A very small CNN to classify the sklearn digits data-set.\"\"\"\n",
    "\n",
    "    def __init__(self, n_classes) -> None:\n",
    "        \"\"\"Construct the CNN with a configurable number of classes.\"\"\"\n",
    "        super().__init__()\n",
    "\n",
    "        # This network has a total complexity of 1216 MAC\n",
    "        self.conv1 = nn.Conv2d(1, 8, 3, stride=1, padding=0)\n",
    "        self.conv2 = nn.Conv2d(8, 16, 3, stride=2, padding=0)\n",
    "        self.conv3 = nn.Conv2d(16, 32, 2, stride=1, padding=0)\n",
    "        self.fc1 = nn.Linear(32, n_classes)\n",
    "\n",
    "    def forward(self, x):\n",
    "        \"\"\"Run inference on the tiny CNN, apply the decision layer on the reshaped conv output.\"\"\"\n",
    "        x = self.conv1(x)\n",
    "        x = torch.relu(x)\n",
    "        x = self.conv2(x)\n",
    "        x = torch.relu(x)\n",
    "        x = self.conv3(x)\n",
    "        x = torch.relu(x)\n",
    "        x = x.flatten(1)\n",
    "        x = self.fc1(x)\n",
    "        return x"
   ],
   "metadata": {
    "collapsed": false,
    "ExecuteTime": {
     "end_time": "2023-12-11T20:37:54.043527523Z",
     "start_time": "2023-12-11T20:37:53.980614898Z"
    }
   },
   "id": "4cd9adaa0db3e136"
  },
  {
   "cell_type": "markdown",
   "source": [
    "### Train the CNN"
   ],
   "metadata": {
    "collapsed": false
   },
   "id": "add2d7c25107f62e"
  },
  {
   "cell_type": "markdown",
   "source": [
    "Note that the training code for quantization aware training is the same as it would be for\n",
    "floating point training. Indeed, the Brevitas layers used in the CNN class will handle\n",
    "quantization during training. \n",
    "\n",
    "We train the network for varying weights and activations bit-width, to find an FHE compatible \n",
    "configuration."
   ],
   "metadata": {
    "collapsed": false
   },
   "id": "e63ccbd243af0a0"
  },
  {
   "cell_type": "code",
   "execution_count": 5,
   "outputs": [
    {
     "name": "stderr",
     "output_type": "stream",
     "text": [
      "Training: 100%|██████████| 150/150 [00:07<00:00, 18.87it/s]\n"
     ]
    },
    {
     "data": {
      "text/plain": "<Figure size 800x400 with 1 Axes>",
      "image/png": "[encoded data removed]"
     },
     "metadata": {},
     "output_type": "display_data"
    }
   ],
   "source": [
    "torch.manual_seed(42)\n",
    "\n",
    "\n",
    "def train_one_epoch(net, optimizer, train_loader):\n",
    "    # Cross Entropy loss for classification when not using a softmax layer in the network\n",
    "    loss = nn.CrossEntropyLoss()\n",
    "\n",
    "    net.train()\n",
    "    avg_loss = 0\n",
    "    for data, target in train_loader:\n",
    "        optimizer.zero_grad()\n",
    "        output = net(data)\n",
    "        loss_net = loss(output, target.long())\n",
    "        loss_net.backward()\n",
    "        optimizer.step()\n",
    "        avg_loss += loss_net.item()\n",
    "\n",
    "    return avg_loss / len(train_loader)\n",
    "\n",
    "\n",
    "# Create the tiny CNN with 10 output classes\n",
    "N_EPOCHS = 150\n",
    "\n",
    "# Create a train data loader\n",
    "train_dataset = TensorDataset(torch.Tensor(x_train), torch.Tensor(y_train))\n",
    "train_dataloader = DataLoader(train_dataset, batch_size=64)\n",
    "\n",
    "# Create a test data loader to supply batches for network evaluation (test)\n",
    "test_dataset = TensorDataset(torch.Tensor(x_test), torch.Tensor(y_test))\n",
    "test_dataloader = DataLoader(test_dataset)\n",
    "\n",
    "# Train the network with Adam, output the test set accuracy every epoch\n",
    "net = TinyCNN(10)\n",
    "losses_bits = []\n",
    "optimizer = torch.optim.Adam(net.parameters())\n",
    "for _ in tqdm(range(N_EPOCHS), desc=\"Training\"):\n",
    "    losses_bits.append(train_one_epoch(net, optimizer, train_dataloader))\n",
    "\n",
    "fig = plt.figure(figsize=(8, 4))\n",
    "plt.plot(losses_bits)\n",
    "plt.ylabel(\"Cross Entropy Loss\")\n",
    "plt.xlabel(\"Epoch\")\n",
    "plt.title(\"Training set loss during training\")\n",
    "plt.grid(True)\n",
    "plt.show()"
   ],
   "metadata": {
    "collapsed": false,
    "ExecuteTime": {
     "end_time": "2023-12-11T20:38:04.244529986Z",
     "start_time": "2023-12-11T20:37:56.177282221Z"
    }
   },
   "id": "55491dbbfcebf118"
  },
  {
   "cell_type": "markdown",
   "source": [
    "### Test the torch network in fp32"
   ],
   "metadata": {
    "collapsed": false
   },
   "id": "50462c6ac17b4b2"
  },
  {
   "cell_type": "code",
   "execution_count": 6,
   "outputs": [
    {
     "name": "stdout",
     "output_type": "stream",
     "text": [
      "Test accuracy for fp32 weights and activations: 98.22%\n"
     ]
    }
   ],
   "source": [
    "def test_torch(net, test_loader):\n",
    "    \"\"\"Test the network: measure accuracy on the test set.\"\"\"\n",
    "\n",
    "    # Freeze normalization layers\n",
    "    net.eval()\n",
    "\n",
    "    all_y_pred = np.zeros((len(test_loader)), dtype=np.int64)\n",
    "    all_targets = np.zeros((len(test_loader)), dtype=np.int64)\n",
    "\n",
    "    # Iterate over the batches\n",
    "    idx = 0\n",
    "    for data, target in test_loader:\n",
    "        # Accumulate the ground truth labels\n",
    "        endidx = idx + target.shape[0]\n",
    "        all_targets[idx:endidx] = target.numpy()\n",
    "\n",
    "        # Run forward and get the predicted class id\n",
    "        output = net(data).argmax(1).detach().numpy()\n",
    "        all_y_pred[idx:endidx] = output\n",
    "\n",
    "        idx += target.shape[0]\n",
    "\n",
    "    # Print out the accuracy as a percentage\n",
    "    n_correct = np.sum(all_targets == all_y_pred)\n",
    "    print(\n",
    "        f\"Test accuracy for fp32 weights and activations: \"\n",
    "        f\"{n_correct / len(test_loader) * 100:.2f}%\"\n",
    "    )\n",
    "\n",
    "\n",
    "test_torch(net, test_dataloader)"
   ],
   "metadata": {
    "collapsed": false,
    "ExecuteTime": {
     "end_time": "2023-12-11T20:38:15.128459292Z",
     "start_time": "2023-12-11T20:38:15.039488397Z"
    }
   },
   "id": "e132806e5cef8d"
  },
  {
   "cell_type": "markdown",
   "source": [
    "### Define the Concrete ML testing function\n",
    "\n",
    "We introduce the `test_with_concrete` function which allows us to test a Concrete ML model in one of two modes:\n",
    "- in FHE\n",
    "- in the clear, using simulated FHE execution\n",
    "\n",
    "Note that it is trivial to toggle between between the two modes. "
   ],
   "metadata": {
    "collapsed": false
   },
   "id": "f090e9ede9536070"
  },
  {
   "cell_type": "code",
   "execution_count": 7,
   "outputs": [],
   "source": [
    "def test_with_concrete(quantized_module, test_loader, use_sim):\n",
    "    \"\"\"Test a neural network that is quantized and compiled with Concrete ML.\"\"\"\n",
    "\n",
    "    # Casting the inputs into int64 is recommended\n",
    "    all_y_pred = np.zeros((len(test_loader)), dtype=np.int64)\n",
    "    all_targets = np.zeros((len(test_loader)), dtype=np.int64)\n",
    "\n",
    "    # Iterate over the test batches and accumulate predictions and ground truth labels in a vector\n",
    "    idx = 0\n",
    "    for data, target in tqdm(test_loader):\n",
    "        data = data.numpy()\n",
    "        target = target.numpy()\n",
    "\n",
    "        fhe_mode = \"simulate\" if use_sim else \"execute\"\n",
    "\n",
    "        # Quantize the inputs and cast to appropriate data type\n",
    "        y_pred = quantized_module.forward(data, fhe=fhe_mode)\n",
    "\n",
    "        endidx = idx + target.shape[0]\n",
    "\n",
    "        # Accumulate the ground truth labels\n",
    "        all_targets[idx:endidx] = target\n",
    "\n",
    "        # Get the predicted class id and accumulate the predictions\n",
    "        y_pred = np.argmax(y_pred, axis=1)\n",
    "        all_y_pred[idx:endidx] = y_pred\n",
    "\n",
    "        # Update the index\n",
    "        idx += target.shape[0]\n",
    "\n",
    "    # Compute and report results\n",
    "    n_correct = np.sum(all_targets == all_y_pred)\n",
    "\n",
    "    return n_correct / len(test_loader)"
   ],
   "metadata": {
    "collapsed": false,
    "ExecuteTime": {
     "end_time": "2023-12-11T20:38:17.631928164Z",
     "start_time": "2023-12-11T20:38:17.627140948Z"
    }
   },
   "id": "ef987cd0a27c5307"
  },
  {
   "cell_type": "markdown",
   "source": [
    "### Test the network using Simulation\n",
    "\n",
    "Note that this is not a test in FHE. The simulated FHE mode gives \n",
    "insight about the impact of FHE execution on the accuracy.\n",
    "\n",
    "The torch neural network is converted to FHE by Concrete ML using a dedicated function, `compile_torch_model`."
   ],
   "metadata": {
    "collapsed": false
   },
   "id": "e4c42f0d936f27c5"
  },
  {
   "cell_type": "code",
   "execution_count": 9,
   "outputs": [
    {
     "name": "stderr",
     "output_type": "stream",
     "text": [
      "100%|██████████| 450/450 [00:01<00:00, 363.78it/s]"
     ]
    },
    {
     "name": "stdout",
     "output_type": "stream",
     "text": [
      "Simulated FHE execution for 6 bit network accuracy: 0.98%\n"
     ]
    },
    {
     "name": "stderr",
     "output_type": "stream",
     "text": [
      "\n"
     ]
    }
   ],
   "source": [
    "n_bits = 6\n",
    "\n",
    "q_module = compile_torch_model(net, x_train, rounding_threshold_bits=6, p_error=0.1)\n",
    "\n",
    "start_time = time.time()\n",
    "accs = test_with_concrete(\n",
    "    q_module,\n",
    "    test_dataloader,\n",
    "    use_sim=True,\n",
    ")\n",
    "sim_time = time.time() - start_time\n",
    "\n",
    "print(f\"Simulated FHE execution for {n_bits} bit network accuracy: {accs:.2f}%\")"
   ],
   "metadata": {
    "collapsed": false,
    "ExecuteTime": {
     "end_time": "2023-12-11T20:39:11.418849543Z",
     "start_time": "2023-12-11T20:39:06.524903486Z"
    }
   },
   "id": "9823577c9e7cac2d"
  },
  {
   "cell_type": "code",
   "execution_count": 17,
   "outputs": [
    {
     "ename": "AttributeError",
     "evalue": "'QuantizedModule' object has no attribute 'save'",
     "output_type": "error",
     "traceback": [
      "\u001B[0;31m---------------------------------------------------------------------------\u001B[0m",
      "\u001B[0;31mAttributeError\u001B[0m                            Traceback (most recent call last)",
      "Cell \u001B[0;32mIn[17], line 1\u001B[0m\n\u001B[0;32m----> 1\u001B[0m \u001B[43mtorch\u001B[49m\u001B[38;5;241;43m.\u001B[39;49m\u001B[43mjit\u001B[49m\u001B[38;5;241;43m.\u001B[39;49m\u001B[43msave\u001B[49m\u001B[43m(\u001B[49m\u001B[43mq_module\u001B[49m\u001B[43m,\u001B[49m\u001B[43m \u001B[49m\u001B[38;5;124;43m'\u001B[39;49m\u001B[38;5;124;43mtest.pt\u001B[39;49m\u001B[38;5;124;43m'\u001B[39;49m\u001B[43m)\u001B[49m\n",
      "File \u001B[0;32m~/miniconda3/envs/compressed-cryptonets/lib/python3.10/site-packages/torch/jit/_serialization.py:81\u001B[0m, in \u001B[0;36msave\u001B[0;34m(m, f, _extra_files)\u001B[0m\n\u001B[1;32m     79\u001B[0m     _extra_files \u001B[38;5;241m=\u001B[39m {}\n\u001B[1;32m     80\u001B[0m \u001B[38;5;28;01mif\u001B[39;00m \u001B[38;5;28misinstance\u001B[39m(f, \u001B[38;5;28mstr\u001B[39m) \u001B[38;5;129;01mor\u001B[39;00m \u001B[38;5;28misinstance\u001B[39m(f, pathlib\u001B[38;5;241m.\u001B[39mPath):\n\u001B[0;32m---> 81\u001B[0m     \u001B[43mm\u001B[49m\u001B[38;5;241;43m.\u001B[39;49m\u001B[43msave\u001B[49m(f, _extra_files\u001B[38;5;241m=\u001B[39m_extra_files)\n\u001B[1;32m     82\u001B[0m \u001B[38;5;28;01melse\u001B[39;00m:\n\u001B[1;32m     83\u001B[0m     ret \u001B[38;5;241m=\u001B[39m m\u001B[38;5;241m.\u001B[39msave_to_buffer(_extra_files\u001B[38;5;241m=\u001B[39m_extra_files)\n",
      "\u001B[0;31mAttributeError\u001B[0m: 'QuantizedModule' object has no attribute 'save'"
     ]
    }
   ],
   "source": [
    "torch.jit.save(q_module, 'test.pt')"
   ],
   "metadata": {
    "collapsed": false,
    "ExecuteTime": {
     "end_time": "2023-12-11T22:36:48.527918938Z",
     "start_time": "2023-12-11T22:36:48.518217035Z"
    }
   },
   "id": "b57d903f270d07ca"
  },
  {
   "cell_type": "markdown",
   "id": "2875e825",
   "metadata": {},
   "source": [
    "### Generate Keys"
   ]
  },
  {
   "cell_type": "code",
   "execution_count": 10,
   "id": "6e8b6471",
   "metadata": {
    "ExecuteTime": {
     "end_time": "2023-12-11T20:39:18.562052544Z",
     "start_time": "2023-12-11T20:39:18.556902225Z"
    }
   },
   "outputs": [
    {
     "name": "stdout",
     "output_type": "stream",
     "text": [
      "Keygen time: 4.72s\n"
     ]
    }
   ],
   "source": [
    "# Generate keys first\n",
    "t = time.time()\n",
    "q_module.fhe_circuit.keygen()\n",
    "print(f\"Keygen time: {time.time()-t:.2f}s\")"
   ]
  },
  {
   "cell_type": "markdown",
   "id": "a4dd257f",
   "metadata": {},
   "source": [
    "### 3. Execute in FHE on encrypted data"
   ]
  },
  {
   "cell_type": "code",
   "execution_count": null,
   "id": "5a82392b",
   "metadata": {
    "is_executing": true,
    "ExecuteTime": {
     "start_time": "2023-12-12T20:39:13.691564434Z"
    }
   },
   "outputs": [
    {
     "name": "stderr",
     "output_type": "stream",
     "text": [
      "  0%|          | 0/100 [00:00<?, ?it/s]"
     ]
    }
   ],
   "source": [
    "# Run inference in FHE on a single encrypted example\n",
    "mini_test_dataset = TensorDataset(torch.Tensor(x_test[:100, :]), torch.Tensor(y_test[:100]))\n",
    "mini_test_dataloader = DataLoader(mini_test_dataset)\n",
    "\n",
    "t = time.time()\n",
    "accuracy_test = test_with_concrete(\n",
    "    q_module,\n",
    "    mini_test_dataloader,\n",
    "    use_sim=False,\n",
    ")\n",
    "elapsed_time = time.time() - t\n",
    "time_per_inference = elapsed_time / len(mini_test_dataset)\n",
    "accuracy_percentage = 100 * accuracy_test\n",
    "\n",
    "print(\n",
    "    f\"Time per inference in FHE: {time_per_inference:.2f} \"\n",
    "    f\"with {accuracy_percentage:.2f}% accuracy\"\n",
    ")"
   ]
  },
  {
   "cell_type": "markdown",
   "id": "550f48bf",
   "metadata": {},
   "source": [
    "### Conclusion\n",
    "\n",
    "In this example, a simple CNN model is trained with torch and reach 98% accuracy in clear. The model is then converted to FHE and evaluated over 100 samples in FHE.\n",
    "\n",
    "The model in FHE achieves **the same accuracy** as the original torch model with a FHE execution time of **2.9 seconds** per image."
   ]
  }
 ],
 "metadata": {
  "execution": {
   "timeout": 10800
  },
  "kernelspec": {
   "name": "python3",
   "language": "python",
   "display_name": "Python 3 (ipykernel)"
  }
 },
 "nbformat": 4,
 "nbformat_minor": 5
}
